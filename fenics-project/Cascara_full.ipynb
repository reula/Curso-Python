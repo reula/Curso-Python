{
 "cells": [
  {
   "cell_type": "markdown",
   "metadata": {},
   "source": [
    "# Solución correspondiente a dos hemisferios a potenciales opuestos\n"
   ]
  },
  {
   "cell_type": "markdown",
   "metadata": {},
   "source": [
    "Aquí resolveremos numéricamente el problema de una cáscara con sus hemisferios a potenciales opuestos. La solución analítica se la puede encontrar, por ejemplo en: http://www.famaf.unc.edu.ar/~reula/Docencia/Electromagnetismo/electrodynamics.pdf, página 81.\n",
    "\n",
    "Debido a la simetría axial solución se puede expresar como suma de polinomios de Legendre $P_n(x)$, donde $x=cos(\\theta)$ y potencias de r, la coordenada radial.\n",
    "\n",
    "$$\n",
    "\\phi(x,r) = \\sum_{n=0}^{\\infty} A_n r^{-(n+1)}P_n(x)\n",
    "$$\n",
    "\n",
    "Supondremos la cáscara tiene radio a y reescalaremos la variable radia como $r\\to \\frac{r}{a}$ de esa manera queda adimensional y la cáscara a radio unidad.\n",
    "\n",
    "Debemos calcular ahora los coeficientes $A_n$. Notemos que $A_{n2}=0 \\;\\;\\; \\forall n$ ya que \n",
    "la cáscara tiene simetría impar ante cambios $x \\to -x$ y por lo tanto ninguno de los polinomios pares puede contribuir.\n",
    "\n",
    "Los impares se calculan imponiendo la condición de contorno: \n",
    "$$\n",
    "\\phi(x,1) = V_0 \\theta(x)\n",
    "$$\n",
    "donde $\\theta$ es la función escalón. \n",
    "Tomaremos $V_0=1$ en lo que sigue. \n",
    "Siempre se puede reescalear la solución al final.\n",
    "\n",
    "Tenemos así que (recordando que la cáscara está a $r=1$),\n",
    "\n",
    "$$\n",
    "\\theta(x) = \\sum_{n=0}^{\\infty} A_n P_n(x),\n",
    "$$\n",
    "\n",
    "multiplicando por $P_{m}(x)$ ambos lados e integrando en $[-1,1]$ obtenemos, \n",
    "\n",
    "$$\n",
    "\\int_{-1}^{1} P_n(x) \\theta(x) dx = \\frac{2}{2n+1} A_n.\n",
    "$$\n",
    "Haciendo solo as integrales entre $[0,1]$ y multiplicando or $2$, (ya que las funciones son impares) obtenemos,\n",
    "\n",
    "$$\n",
    "A_n = (2n+1) \\int_0^1 P_n(x) dx \\;\\;\\; n \\; \\mbox{impar}.\n",
    "$$\n",
    "\n",
    "Haremos estos cálculos analíticamente y luego graficaremos la solución.\n",
    "\n",
    "Para ilustrar el caso donde es conveniente hacer las integrales en forma numérica consideraremos el caso,\n",
    "\n",
    "$$\n",
    "\\phi(x,1) = V_0 \\theta(x) e^{-x^2}.\n",
    "$$\n",
    "\n",
    "Los coeficientes vendrán dados por:\n",
    "$$\n",
    "\\theta(x) e^{-x^2} = \\sum_{n=0}^{\\infty} B_n P_n(x),\n",
    "$$\n",
    "\n",
    "$$\n",
    "B_n = (2n+1) \\int_0^1 P_n(x) e^{-x^2} dx \\;\\;\\; n \\; \\mbox{impar}.\n",
    "$$\n",
    "\n",
    "A estos los calcularemos numéricamente."
   ]
  },
  {
   "cell_type": "markdown",
   "metadata": {},
   "source": [
    "Primero definimos todo lo necesario de las librerías de Python."
   ]
  },
  {
   "cell_type": "code",
   "execution_count": 1,
   "metadata": {},
   "outputs": [],
   "source": [
    "%matplotlib inline\n",
    "from sympy import *\n",
    "import sympy.functions as sp \n",
    "from scipy.special import eval_legendre\n",
    "import numpy as np\n",
    "import matplotlib.pyplot as mpln\n",
    "from mpl_toolkits.mplot3d import Axes3D\n",
    "from matplotlib import cm\n",
    "from matplotlib.ticker import LinearLocator, FormatStrFormatter\n",
    "from matplotlib import animation, rc\n",
    "from IPython.display import HTML\n",
    "from sympy.abc import x, y, r, n, k, m"
   ]
  },
  {
   "cell_type": "markdown",
   "metadata": {},
   "source": [
    "Luego probamos que las definiciones funcionan correctamente con algunos ejemplos:"
   ]
  },
  {
   "cell_type": "code",
   "execution_count": 2,
   "metadata": {},
   "outputs": [
    {
     "data": {
      "text/latex": [
       "$\\displaystyle \\frac{5 x^{3}}{2} - \\frac{3 x}{2}$"
      ],
      "text/plain": [
       "5*x**3/2 - 3*x/2"
      ]
     },
     "execution_count": 2,
     "metadata": {},
     "output_type": "execute_result"
    }
   ],
   "source": [
    "sp.legendre(3,x)"
   ]
  },
  {
   "cell_type": "code",
   "execution_count": 3,
   "metadata": {},
   "outputs": [
    {
     "data": {
      "text/latex": [
       "$\\displaystyle 63.0$"
      ],
      "text/plain": [
       "63.0000000000000"
      ]
     },
     "execution_count": 3,
     "metadata": {},
     "output_type": "execute_result"
    }
   ],
   "source": [
    "sp.legendre(3,3.0)"
   ]
  },
  {
   "cell_type": "markdown",
   "metadata": {},
   "source": [
    "También tenemos los de scipy para evaluaciones más precisas y óptimas."
   ]
  },
  {
   "cell_type": "code",
   "execution_count": 4,
   "metadata": {},
   "outputs": [
    {
     "data": {
      "text/plain": [
       "-0.3824999999999999"
      ]
     },
     "execution_count": 4,
     "metadata": {},
     "output_type": "execute_result"
    }
   ],
   "source": [
    "eval_legendre(3,0.3)"
   ]
  },
  {
   "cell_type": "code",
   "execution_count": null,
   "metadata": {},
   "outputs": [],
   "source": []
  },
  {
   "cell_type": "markdown",
   "metadata": {},
   "source": [
    "Podemos por ejemplo integrarlos (o diferenciarlos, o hacer otras operaciones con ellos), por ejemplo"
   ]
  },
  {
   "cell_type": "code",
   "execution_count": 5,
   "metadata": {},
   "outputs": [
    {
     "data": {
      "text/latex": [
       "$\\displaystyle \\frac{21 x^{6}}{16} - \\frac{35 x^{4}}{16} + \\frac{15 x^{2}}{16}$"
      ],
      "text/plain": [
       "21*x**6/16 - 35*x**4/16 + 15*x**2/16"
      ]
     },
     "execution_count": 5,
     "metadata": {},
     "output_type": "execute_result"
    }
   ],
   "source": [
    "integrate(sp.legendre(5,x),x)"
   ]
  },
  {
   "cell_type": "markdown",
   "metadata": {},
   "source": [
    "Por ejemplo podemos probar una de las fórmulas más útiles para hacer integrales usando los polinomios de Legendre:\n",
    "\n",
    "$$\n",
    "\\frac{dP_{l+1}}{dx} - \\frac{dP_{l-1}}{dx} - l(l+1)P_{l} = 0\n",
    "$$\n",
    "\n",
    "Solo se puede constatar la fórmula para valores particulares (no la sabe simplificar completamente). Poner cualquier valor entero positivo (>1) para k."
   ]
  },
  {
   "cell_type": "code",
   "execution_count": 6,
   "metadata": {},
   "outputs": [
    {
     "data": {
      "text/latex": [
       "$\\displaystyle 0$"
      ],
      "text/plain": [
       "0"
      ]
     },
     "execution_count": 6,
     "metadata": {},
     "output_type": "execute_result"
    }
   ],
   "source": [
    "k=5\n",
    "diff(sp.legendre(k+1,x),x) - diff(sp.legendre(k-1,x),x) - (2*k+1)*sp.legendre(k,x)"
   ]
  },
  {
   "cell_type": "markdown",
   "metadata": {},
   "source": [
    "Grafiquemos ahora algunos polinomios de Legendre. Para ello primero los transformamos en funciones propiamente dichas (y no símbolos) y lo hacemos adaptados para ser graficados con las facilidades numéricas the Python (numpy)."
   ]
  },
  {
   "cell_type": "code",
   "execution_count": 7,
   "metadata": {},
   "outputs": [
    {
     "ename": "NameError",
     "evalue": "name 'mpl' is not defined",
     "output_type": "error",
     "traceback": [
      "\u001b[0;31m---------------------------------------------------------------------------\u001b[0m",
      "\u001b[0;31mNameError\u001b[0m                                 Traceback (most recent call last)",
      "Cell \u001b[0;32mIn [7], line 4\u001b[0m\n\u001b[1;32m      2\u001b[0m f \u001b[38;5;241m=\u001b[39m lambdify(x, sp\u001b[38;5;241m.\u001b[39mlegendre(\u001b[38;5;241m8\u001b[39m,x),\u001b[38;5;124m\"\u001b[39m\u001b[38;5;124mnumpy\u001b[39m\u001b[38;5;124m\"\u001b[39m)\n\u001b[1;32m      3\u001b[0m l_vals\u001b[38;5;241m=\u001b[39mf(x_vals)\n\u001b[0;32m----> 4\u001b[0m \u001b[43mmpl\u001b[49m\u001b[38;5;241m.\u001b[39mplot(x_vals,l_vals)\n",
      "\u001b[0;31mNameError\u001b[0m: name 'mpl' is not defined"
     ]
    }
   ],
   "source": [
    "x_vals=np.linspace(-1,1,200)\n",
    "f = lambdify(x, sp.legendre(8,x),\"numpy\")\n",
    "l_vals=f(x_vals)\n",
    "mpl.plot(x_vals,l_vals)\n",
    "#mpl.plot(x_vals,sp.legendre(8,x))"
   ]
  },
  {
   "cell_type": "markdown",
   "metadata": {},
   "source": [
    "Primero hacemos el caso analítico:"
   ]
  },
  {
   "cell_type": "markdown",
   "metadata": {},
   "source": [
    "Las integrales se pueden hacer o bien analíticamente o bien numéricamente. En el caso que sigue tomamos una grilla de L puntos e integramos numéricamente. Esto siempre funciona, pero hay que tener cuidado que la aproximación sea buena, en particular para polinomios de orden alto hay que tomar intervalos de grilla bien pequeños.\n"
   ]
  },
  {
   "cell_type": "code",
   "execution_count": null,
   "metadata": {},
   "outputs": [],
   "source": [
    "L=200 # números de puntos de grilla, ajustar al grado del polinomio, se necesitan al menos 10 puntos por cada l.\n",
    "#L = 100"
   ]
  },
  {
   "cell_type": "code",
   "execution_count": null,
   "metadata": {},
   "outputs": [],
   "source": [
    "Integral(sp.legendre(3,x),(x,0,1)).as_sum(L)"
   ]
  },
  {
   "cell_type": "markdown",
   "metadata": {},
   "source": [
    "También en algunos casos las integrales se pueden hacer en forma exacta."
   ]
  },
  {
   "cell_type": "code",
   "execution_count": null,
   "metadata": {},
   "outputs": [],
   "source": [
    "Integral(sp.legendre(3,x),(x,0,1)).doit()"
   ]
  },
  {
   "cell_type": "markdown",
   "metadata": {},
   "source": [
    "Primero hacemos un cálculo algebraico, en el caso que el potencial viene dado por $\\theta(x)$. Calculamos los coeficientes (solo para los n impares, n=2m+1). "
   ]
  },
  {
   "cell_type": "code",
   "execution_count": null,
   "metadata": {},
   "outputs": [],
   "source": [
    "A=lambda n: (2*(2*n+1)+1)*Integral(sp.legendre(2*n+1,x),(x,0,1)).doit()"
   ]
  },
  {
   "cell_type": "code",
   "execution_count": null,
   "metadata": {},
   "outputs": [],
   "source": [
    "A(0)"
   ]
  },
  {
   "cell_type": "code",
   "execution_count": null,
   "metadata": {},
   "outputs": [],
   "source": [
    "A(2).evalf()"
   ]
  },
  {
   "cell_type": "markdown",
   "metadata": {},
   "source": [
    "Contruimos el potencial en la frontera (r=1) para saber que las condiciones de contorno se satisfacen aproximadamente."
   ]
  },
  {
   "cell_type": "code",
   "execution_count": null,
   "metadata": {},
   "outputs": [],
   "source": [
    "N=15 # número de términos en la suma\n",
    "#step_approx=lambdify(x,Sum(A(m).doit()*sp.legendre(2*m+1,x),(m,0,N)).doit(),\"numpy\")\n",
    "step_approx=lambdify(x,Sum(A(m).evalf()*sp.legendre(2*m+1,x),(m,0,N)).doit(),\"numpy\")"
   ]
  },
  {
   "cell_type": "markdown",
   "metadata": {},
   "source": [
    "Graficamos la aproximación y comparamos con la solución exacta. Note que si ponemos muchos términos la solución no converge."
   ]
  },
  {
   "cell_type": "code",
   "execution_count": null,
   "metadata": {},
   "outputs": [],
   "source": [
    "x_vals = np.linspace(-1, 1, 200)\n",
    "z_vals = step_approx(x_vals)\n",
    "step = lambdify(x,sp.sign(x),\"numpy\")\n",
    "f_vals = step(x_vals)\n",
    "mpl.plot(x_vals, z_vals, x_vals, f_vals)\n",
    "mpl.ylabel(\"step\")\n",
    "mpl.show()"
   ]
  },
  {
   "cell_type": "markdown",
   "metadata": {},
   "source": [
    "Alternativamente, usando los polinomios de Legendre del paquete Scipy"
   ]
  },
  {
   "cell_type": "code",
   "execution_count": null,
   "metadata": {},
   "outputs": [],
   "source": [
    "Nc=45 # número de términos en la suma\n",
    "Af = []\n",
    "for l in range(0, Nc):\n",
    "    Af.append(A(l).evalf())\n",
    "\n",
    "def step_approx_c(x,Nc):\n",
    "    s = 0\n",
    "    for l in range(0, Nc):\n",
    "        s = s + Af[l] * eval_legendre(2*l+1,x)\n",
    "    return s\n",
    "                 \n",
    "#Af"
   ]
  },
  {
   "cell_type": "code",
   "execution_count": null,
   "metadata": {},
   "outputs": [],
   "source": [
    "x_vals = np.linspace(-1, 1, 200)\n",
    "z_vals = step_approx_c(x_vals,Nc)\n",
    "step = lambdify(x,sp.sign(x),\"numpy\")\n",
    "f_vals = step(x_vals)\n",
    "mpl.plot(x_vals, z_vals, x_vals, f_vals)\n",
    "mpl.ylabel(\"step\")\n",
    "mpl.show()"
   ]
  },
  {
   "cell_type": "markdown",
   "metadata": {},
   "source": [
    "Generamos ahora el potencial completo:"
   ]
  },
  {
   "cell_type": "code",
   "execution_count": null,
   "metadata": {},
   "outputs": [],
   "source": [
    "potential=lambdify((x,r),Sum(A(m).evalf()*sp.legendre(2*m+1,x)*r**(-2*(m+1)),(m,0,N)).doit(),\"numpy\")"
   ]
  },
  {
   "cell_type": "markdown",
   "metadata": {},
   "source": [
    "Graficamos la aproximación a la función escalón que calculamos:"
   ]
  },
  {
   "cell_type": "code",
   "execution_count": null,
   "metadata": {},
   "outputs": [],
   "source": [
    "y_vals = np.linspace(1,10,200)\n",
    "X,Y = np.meshgrid(x_vals,y_vals)\n",
    "z_vals = potential(X,Y)\n",
    "fig = mpl.figure(figsize = (10,10))\n",
    "ax = fig.gca(projection='3d')\n",
    "ax.set_zlim(-1.2, 1.2)\n",
    "surf = ax.plot_surface(X,Y,z_vals, rstride=2, alpha=0.9, cstride=2, cmap=cm.coolwarm,linewidth=0, antialiased=False)\n",
    "levels = np.arange(-1., 1., 0.2)\n",
    "levels_y = np.arange(0.9, 2., 0.1)\n",
    "cset = ax.contour(X, Y, z_vals, levels, zdir='z', offset=1.5, cmap=cm.coolwarm)\n",
    "cset = ax.contour(X, Y, z_vals, levels, zdir='x', offset=1.4, cmap=cm.coolwarm)\n",
    "cset = ax.contour(X, Y, z_vals, levels_y, zdir='y', offset=-2, cmap=cm.coolwarm)\n",
    "fig.colorbar(surf, shrink=0.5, aspect=5)\n",
    "mpl.show()"
   ]
  },
  {
   "cell_type": "markdown",
   "metadata": {},
   "source": [
    "Ahora calcularemos el segundo caso, $V(x) = \\theta(x)\\times e^{-x^2}$. Primero lo hacemos con un número pequeño de puntos en la integración numérica (20)."
   ]
  },
  {
   "cell_type": "code",
   "execution_count": null,
   "metadata": {},
   "outputs": [],
   "source": [
    "B_20=lambda m: (2*(2*m+1)+1)*Integral(sp.legendre(2*m+1,x)*sp.exp(-x*x),(x,0,1)).as_sum(20)"
   ]
  },
  {
   "cell_type": "markdown",
   "metadata": {},
   "source": [
    "Constatamos que funciona:"
   ]
  },
  {
   "cell_type": "code",
   "execution_count": null,
   "metadata": {},
   "outputs": [],
   "source": [
    "B_20(3).evalf()"
   ]
  },
  {
   "cell_type": "markdown",
   "metadata": {},
   "source": [
    "Ahora ponemos los números en una tupla para poderlos graficar de forma simple."
   ]
  },
  {
   "cell_type": "code",
   "execution_count": null,
   "metadata": {},
   "outputs": [],
   "source": [
    "E_20=[]\n",
    "for j in range(10):\n",
    "        E_20.append(B_20(j))"
   ]
  },
  {
   "cell_type": "markdown",
   "metadata": {},
   "source": [
    "Repetimos con más puntos para ver la diferencia en la integración numérica:"
   ]
  },
  {
   "cell_type": "code",
   "execution_count": null,
   "metadata": {},
   "outputs": [],
   "source": [
    "print(L)\n",
    "#L = 100"
   ]
  },
  {
   "cell_type": "code",
   "execution_count": null,
   "metadata": {},
   "outputs": [],
   "source": [
    "B_200=lambda m: (2*(2*m+1)+1)*Integral(sp.legendre(2*m+1,x)*sp.exp(-x*x),(x,0,1)).as_sum(200)\n"
   ]
  },
  {
   "cell_type": "code",
   "execution_count": null,
   "metadata": {},
   "outputs": [],
   "source": [
    "E_200=[]\n",
    "for j in range(10):\n",
    "        E_200.append(B_200(j))"
   ]
  },
  {
   "cell_type": "code",
   "execution_count": null,
   "metadata": {},
   "outputs": [],
   "source": [
    "mpl.plot(range(10),E_200,'bo', range(10),E_20, 'r^')"
   ]
  },
  {
   "cell_type": "markdown",
   "metadata": {},
   "source": [
    "Vemos que se pierde precisión a medida que crece el orden del polinomio como era de esperarse. Ahora ya estamos en condiciones de proseguir. \n",
    "\n",
    "Chequeamos que la condición de contorno se satisfaga. Para ello sumamos los 20 primeros términos de la suma. (Vea que sucede si toma más términos)."
   ]
  },
  {
   "cell_type": "code",
   "execution_count": null,
   "metadata": {},
   "outputs": [],
   "source": [
    "N=20 # número de términos en la suma\n",
    "step=lambdify(x,Sum(B_200(m).doit()*sp.legendre(2*m+1,x),(m,0,N)).doit(),\"numpy\")"
   ]
  },
  {
   "cell_type": "markdown",
   "metadata": {},
   "source": [
    "Graficamos la aproximación a la función escalón que calculamos:"
   ]
  },
  {
   "cell_type": "code",
   "execution_count": null,
   "metadata": {},
   "outputs": [],
   "source": [
    "x_vals = np.linspace(-1, 1, 200)\n",
    "z_vals = step(x_vals)\n",
    "f = lambdify(x,sp.sign(x)*sp.exp(-x*x),\"numpy\")\n",
    "f_vals = f(x_vals)\n",
    "mpl.plot(x_vals, z_vals, x_vals, f_vals)\n",
    "mpl.ylabel(\"step\")\n",
    "mpl.show()"
   ]
  },
  {
   "cell_type": "markdown",
   "metadata": {},
   "source": [
    "Ahora calculamos una aproximación a la solución completa, también tomando 20 términos de la serie."
   ]
  },
  {
   "cell_type": "code",
   "execution_count": null,
   "metadata": {},
   "outputs": [],
   "source": [
    "potential=lambdify((x,r),Sum(B_200(m).doit()*sp.legendre(2*m+1,x)*r**(-2*(m+1)),(m,0,N)).doit(),\"numpy\")"
   ]
  },
  {
   "cell_type": "markdown",
   "metadata": {},
   "source": [
    "Finalmente la graficamos:"
   ]
  },
  {
   "cell_type": "code",
   "execution_count": null,
   "metadata": {},
   "outputs": [],
   "source": [
    "y_vals = np.linspace(1,10,200)\n",
    "X,Y = np.meshgrid(x_vals,y_vals)\n",
    "z_vals = potential(X,Y)\n",
    "fig = mpl.figure()\n",
    "ax = fig.gca(projection='3d')\n",
    "ax.set_zlim(-1.2, 1.2)\n",
    "surf = ax.plot_surface(X,Y,z_vals, rstride=2, alpha=0.9, cstride=2, cmap=cm.coolwarm,linewidth=0, antialiased=False)\n",
    "levels = np.arange(-1., 1., 0.2)\n",
    "levels_y = np.arange(0.9, 2., 0.1)\n",
    "cset = ax.contour(X, Y, z_vals, levels, zdir='z', offset=1.5, cmap=cm.coolwarm)\n",
    "cset = ax.contour(X, Y, z_vals, levels, zdir='x', offset=1.4, cmap=cm.coolwarm)\n",
    "cset = ax.contour(X, Y, z_vals, levels_y, zdir='y', offset=-2, cmap=cm.coolwarm)\n",
    "fig.colorbar(surf, shrink=0.5, aspect=5)\n",
    "mpl.show()"
   ]
  },
  {
   "cell_type": "markdown",
   "metadata": {},
   "source": [
    "Si quiere tener mejor control del gráfico (agrandarlo, rotarlo, etc.) tiene que correr la versión .py en idle, iPython o spyder. En esos entornos se genera un gráfico (no una figura embebida como aquí)  donde se pueden hacer esas cosas."
   ]
  },
  {
   "cell_type": "code",
   "execution_count": null,
   "metadata": {},
   "outputs": [],
   "source": []
  },
  {
   "cell_type": "code",
   "execution_count": null,
   "metadata": {},
   "outputs": [],
   "source": []
  }
 ],
 "metadata": {
  "kernelspec": {
   "display_name": "Python 3 (ipykernel)",
   "language": "python",
   "name": "python3"
  },
  "language_info": {
   "codemirror_mode": {
    "name": "ipython",
    "version": 3
   },
   "file_extension": ".py",
   "mimetype": "text/x-python",
   "name": "python",
   "nbconvert_exporter": "python",
   "pygments_lexer": "ipython3",
   "version": "3.10.7"
  }
 },
 "nbformat": 4,
 "nbformat_minor": 4
}
