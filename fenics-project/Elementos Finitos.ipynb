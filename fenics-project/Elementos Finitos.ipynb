{
 "cells": [
  {
   "cell_type": "markdown",
   "id": "bcd8b670",
   "metadata": {},
   "source": [
    "# Curso de Python Científico \n",
    "\n",
    "## FaMAF-UNC\n",
    "\n",
    "\n",
    "\n",
    "## Resolviendo ecuaciones en derivadas parciales usando Elementos Finitos \n",
    "\n",
    "Esta clase pretende:\n",
    "\n",
    "1. Introducir la noción de elementos finitos en la resolución de problemas en derivadas parciales.\n",
    "\n",
    "2. Familiarizarse con los primeros ejemplos desarrollados en Fenics\n",
    "\n",
    "3. Ver otras maneras de pos-procesado. "
   ]
  },
  {
   "cell_type": "markdown",
   "id": "1244224e",
   "metadata": {},
   "source": [
    "Supongamos que queremos resolver la ecuación de Poisson en una región $\\Omega$ con cierta condición de borde de tipo Dirichlet:\n",
    "\n",
    "\\begin{eqnarray*}\n",
    "  -\\Delta u &=& f \\;\\;\\;\\;\\; \\mbox{in} \\; \\Omega \\\\\n",
    "   u &=& g  \\;\\;\\;\\;\\; \\mbox{in} \\; \\partial \\Omega\n",
    "\\end{eqnarray*}\n",
    "\n",
    "Donde $f$ y $g$ son dos funciones suaves definidas en $\\Omega$ y $\\partial \\Omega$ respectivamente. \n",
    "Supongamos por simplicidad que $g=0$.\n",
    "\n",
    "Si conociesemos las autofunciones del Laplaciano en $\\Omega$ es decir un conjunto (infinito) de funciones $\\{e_{n}(x)\\}$ y números $\\{\\lambda_n\\}$ satisfaciendo:\n",
    "\n",
    "\n",
    "\\begin{eqnarray*}\n",
    "  -\\Delta e_n &=& \\lambda_n e_n \\;\\;\\;\\;\\; \\mbox{in} \\; \\Omega \\\\\n",
    "   e_n &=& 0  \\;\\;\\;\\;\\; \\mbox{in} \\; \\partial \\Omega\n",
    "\\end{eqnarray*}\n",
    "\n",
    "y supiésemos que ese conjunto es una base del espacio ($L^2$),\n",
    "podríamos escribir que \n",
    "\n",
    "\\begin{eqnarray*}\n",
    "u(x) &=& \\sum_n u^n e_n(x) \\\\\n",
    "f(x) &=& \\sum_n f^n e_n(x).\n",
    "\\end{eqnarray*}\n",
    "\n",
    "Usando la ecuación y el hecho de que los $\\{e_{n}(x)\\}$ son linealmente independientes tendríamos que:\n",
    "\n",
    "$$\n",
    "u^n = \\frac{f^n}{\\lambda_n},\n",
    "$$\n",
    "\n",
    "y habríamos resulto el problema si $\\lambda_n \\neq 0$ y el $0$ no fuese punto de acumulación de la sucesión $\\{\\lambda_n\\}$. \n",
    "Para encontrar los coeficientes $\\{f^n\\}$ lo que hacemos es contraer $f$ con todos los elementos de la base e integrar sobre $\\Omega$ de esa forma, llegamos a una expresión:\n",
    "\n",
    "$$\n",
    "\\int_{\\Omega} b_j\\; f\\; d\\Omega = \\sum_n f^n \\int_{\\Omega} b_j b_n \\; d\\Omega\n",
    "$$\n",
    "\n",
    "la cual resolvemos para $f^n$ invirtiendo la matriz $M_{jn} := \\int_{\\Omega} b_j b_n \\; d\\Omega$, \n",
    "\n",
    "$$\n",
    "f^n = \\sum_j (M^{-1})^{nj} \\int_{\\Omega} b_j\\; f\\; d\\Omega\n",
    "$$\n",
    "\n",
    "Por ejemplo, en un rectángulo de lados $(L_x, L_y)$ tenemos que las autofunciones vienen dadas por:\n",
    "\n",
    "$$\n",
    "e_{n,m} = \\sin(\\frac{\\pi n x}{L_x}) * \\sin(\\frac{\\pi m y}{L_y})\n",
    "$$\n",
    "\n",
    "y los autovalores por:\n",
    "\n",
    "$$\n",
    "\\lambda_{n,m} = \\pi^2(\\frac{n^2}{Lx^2} + \\frac{m^2}{Ly^2}) \\;\\;\\; n, m = 1, 2, \\ldots\n",
    "$$"
   ]
  },
  {
   "cell_type": "markdown",
   "id": "17680953",
   "metadata": {},
   "source": [
    "Si $\\Omega$ es una región no-trivial no conocemos las autofunciones/autovalores del Laplaciano y no podemos usar el método anterior. Pero de todos modos podemos usar una base cualquiera y expresar la solución con ella:\n",
    "\n",
    "Supongamos que tenemos una base genérica, $\\{E_i\\}$, luego escribimos, \n",
    "\n",
    "$$\n",
    "u = \\sum_i u^i E_i % \\;\\;\\;\\;\\;\\; f = \\sum_i f^i E_i\n",
    "$$\n",
    "\n",
    "y la ecuación nos dice que:\n",
    "\n",
    "$$\n",
    "\\Delta u = \\sum_i  u_i \\Delta E_i = f %= \\sum_i f^i E_i\n",
    "$$\n",
    "\n",
    "Multiplicando por $E_j$ e integrando obtenemos:\n",
    "\n",
    "$$\n",
    "\\sum_i  u_i \\int_{\\Omega} E_j \\Delta E_i \\; d\\Omega = \\int_{\\Omega} E_j f \\; d\\Omega\n",
    "$$\n",
    "\n",
    "\n",
    "Por lo tanto, la solución será:\n",
    "\n",
    "$$\n",
    "u_i = \\sum_j (A^{-1})^{ij} b_j\n",
    "$$\n",
    "\n",
    "con:\n",
    "\n",
    "$$\n",
    "A_{ij} = \\int_{\\Omega} E_j \\Delta E_i \\; d\\Omega \\;\\;\\;\\;\\; b_j = \\int_{\\Omega} E_j f \\; d\\Omega\n",
    "$$\n",
    "\n",
    "Solo resta invertir la matríz $A_{ij}$. \n",
    "\n",
    "\n",
    "1. Notemos que esta es una matríz simétrica, \n",
    "$$\n",
    "A_{ij} = \\int_{\\Omega} E_j \\Delta E_i \\; d\\Omega = -\\int_{\\Omega} \\nabla E_j \\cdot \\nabla E_i \\; d\\Omega = A_{ji},\n",
    "$$\n",
    "donde al integrar por partes hemos usado que el término de borde se anula pues hemos supuesto que $E_j = 0$ en $\\partial \\Omega$.\n",
    "La simetría de las matrices permite utilizar métodos muy eficientes para su inversión. \n",
    "\n",
    "2. Es una matríz de dimensión infinita, por lo tanto sólo podremos invertir *parte* de la misma, es es, invertir en un subespacio, el espacio generado por un número finito de elementos de la base, $V_h = span\\{E_j, j = 1, 2, \\ldots, N\\}$ "
   ]
  },
  {
   "cell_type": "markdown",
   "id": "8af6b873",
   "metadata": {},
   "source": [
    "3. Es posible elegir una base donde la matríz $A_{ij}$ sea *rala*, es decir con pocos elementos distintos de cero. Esto permite minimizar el número de operaciones matemáticas en la inversión y ahorrar en el uso de la memoria de la computadora. \n",
    "\n",
    "4. Existen métodos muy eficientes y librarías que los implementan que permiten invertir matrices de dimensiones muy altas. \n",
    "![matrix inversion](matrix_inversion.png)"
   ]
  },
  {
   "cell_type": "markdown",
   "id": "0a8bfb60",
   "metadata": {},
   "source": [
    "### Eligiendo la base:\n",
    "\n",
    "Hacemos una triangulación de la región y tomamos como base las *funciones sombrero*\n",
    "\n",
    "![Lagrange 1er orden](Lagrange_1er_orden.png)\n"
   ]
  },
  {
   "cell_type": "markdown",
   "id": "16e1f1e0",
   "metadata": {},
   "source": [
    "![Lagrange 2nd orden](Lagrange_2nd_orden.png)"
   ]
  },
  {
   "cell_type": "markdown",
   "id": "059d3b92",
   "metadata": {},
   "source": [
    "$A_{ij} = -\\int_{\\Omega} \\nabla E_j \\cdot \\nabla E_i \\; d\\Omega$ \n",
    "\n",
    "\n",
    "## Problema débil:\n",
    "\n",
    "encuentre $u_h \\in V_h$ tal que,\n",
    "$$\n",
    "\\int_{\\Omega} \\nabla u \\cdot \\nabla v \\; d\\Omega = - \\int_{\\Omega} v f \\; d\\Omega \\;\\;\\; \\forall v \\in V^0_h\n",
    "$$"
   ]
  },
  {
   "cell_type": "markdown",
   "id": "eac3d484",
   "metadata": {},
   "source": [
    "![potencial](Capacity/potencial_01.png)"
   ]
  },
  {
   "cell_type": "markdown",
   "id": "1cf14dd8",
   "metadata": {},
   "source": [
    "![cavidad resonante](cavity_e.png)"
   ]
  },
  {
   "cell_type": "code",
   "execution_count": null,
   "id": "5d28b651",
   "metadata": {},
   "outputs": [],
   "source": []
  }
 ],
 "metadata": {
  "kernelspec": {
   "display_name": "Python 3 (ipykernel)",
   "language": "python",
   "name": "python3"
  },
  "language_info": {
   "codemirror_mode": {
    "name": "ipython",
    "version": 3
   },
   "file_extension": ".py",
   "mimetype": "text/x-python",
   "name": "python",
   "nbconvert_exporter": "python",
   "pygments_lexer": "ipython3",
   "version": "3.10.7"
  }
 },
 "nbformat": 4,
 "nbformat_minor": 5
}
