{
 "cells": [
  {
   "cell_type": "markdown",
   "metadata": {},
   "source": [
    "<img src=\"Header.png\" alt=\"Python Cientifico de\" style=\"width: 1000px;\"/>"
   ]
  },
  {
   "cell_type": "markdown",
   "metadata": {},
   "source": [
    "# Poisson Membrane"
   ]
  },
  {
   "cell_type": "markdown",
   "metadata": {},
   "source": [
    "```pyhton\n",
    "FEniCS tutorial demo program: Deflection of a membrane.\n",
    "\n",
    "  -Laplace(w) = p  in the unit circle\n",
    "            w = 0  on the boundary\n",
    "\n",
    "The load p is a Gaussian function centered at (0, 0.6).\n",
    "```"
   ]
  },
  {
   "cell_type": "code",
   "execution_count": 1,
   "metadata": {},
   "outputs": [],
   "source": [
    "# from __future__ import print_function\n",
    "from fenics import *\n",
    "from mshr import *\n",
    "import numpy as np"
   ]
  },
  {
   "cell_type": "code",
   "execution_count": 2,
   "metadata": {},
   "outputs": [],
   "source": [
    "# Create mesh and define function space\n",
    "domain = Circle(Point(0, 0), 1)\n",
    "mesh = generate_mesh(domain, 64)\n",
    "V = FunctionSpace(mesh, 'P', 2)"
   ]
  },
  {
   "cell_type": "code",
   "execution_count": 3,
   "metadata": {},
   "outputs": [],
   "source": [
    "# Define boundary condition\n",
    "w_D = Constant(0)\n",
    "\n",
    "def boundary(x, on_boundary):\n",
    "    return on_boundary\n",
    "\n",
    "bc = DirichletBC(V, w_D, boundary)"
   ]
  },
  {
   "cell_type": "code",
   "execution_count": 4,
   "metadata": {},
   "outputs": [
    {
     "name": "stderr",
     "output_type": "stream",
     "text": [
      "--- Instant: compiling ---\n"
     ]
    }
   ],
   "source": [
    "# Define load\n",
    "beta = 8\n",
    "R0 = 0.6\n",
    "p = Expression('4*exp(-pow(beta, 2)*(pow(x[0], 2) + pow(x[1] - R0, 2)))',\n",
    "               degree=1, beta=beta, R0=R0)"
   ]
  },
  {
   "cell_type": "code",
   "execution_count": 5,
   "metadata": {},
   "outputs": [],
   "source": [
    "# Define variational problem\n",
    "w = TrialFunction(V)\n",
    "v = TestFunction(V)\n",
    "a = dot(grad(w), grad(v))*dx\n",
    "L = p*v*dx"
   ]
  },
  {
   "cell_type": "code",
   "execution_count": 6,
   "metadata": {},
   "outputs": [
    {
     "name": "stdout",
     "output_type": "stream",
     "text": [
      "Calling FFC just-in-time (JIT) compiler, this may take some time.\n"
     ]
    }
   ],
   "source": [
    "# Compute solution\n",
    "w = Function(V)\n",
    "solve(a == L, w, bc)"
   ]
  },
  {
   "cell_type": "code",
   "execution_count": 7,
   "metadata": {},
   "outputs": [
    {
     "data": {
      "text/plain": [
       "<matplotlib.tri.tricontour.TriContourSet at 0x7fb1ad4c3ac8>"
      ]
     },
     "execution_count": 7,
     "metadata": {},
     "output_type": "execute_result"
    }
   ],
   "source": [
    "# Plot solution\n",
    "p = interpolate(p, V)\n",
    "plot(w, title='Deflection')\n",
    "plot(p, title='Load')"
   ]
  },
  {
   "cell_type": "code",
   "execution_count": 8,
   "metadata": {},
   "outputs": [],
   "source": [
    "# Save solution to file in VTK format\n",
    "vtkfile_w = File('poisson_membrane/deflection.pvd')\n",
    "vtkfile_w << w\n",
    "vtkfile_p = File('poisson_membrane/load.pvd')\n",
    "vtkfile_p << p"
   ]
  },
  {
   "cell_type": "code",
   "execution_count": 9,
   "metadata": {},
   "outputs": [
    {
     "data": {
      "image/png": "[encoded data removed]",
      "text/plain": [
       "<Figure size 432x288 with 1 Axes>"
      ]
     },
     "metadata": {},
     "output_type": "display_data"
    }
   ],
   "source": [
    "# Curve plot along x = 0 comparing p and w\n",
    "import numpy as np\n",
    "import matplotlib.pyplot as plt\n",
    "tol = 0.001  # avoid hitting points outside the domain\n",
    "y = np.linspace(-1 + tol, 1 - tol, 101)\n",
    "points = [(0, y_) for y_ in y]  # 2D points\n",
    "w_line = np.array([w(point) for point in points])\n",
    "p_line = np.array([p(point) for point in points])\n",
    "plt.plot(y, 50*w_line, 'k', linewidth=2)  # magnify w\n",
    "plt.plot(y, p_line, 'b--', linewidth=2)\n",
    "plt.grid(True)\n",
    "plt.xlabel('$y$')\n",
    "plt.legend(['Deflection ($\\\\times 50$)', 'Load'], loc='upper left')\n",
    "plt.savefig('poisson_membrane/curves.pdf')\n",
    "plt.savefig('poisson_membrane/curves.png')\n",
    "\n",
    "# Hold plots\n",
    "# interactive()\n",
    "plt.show()"
   ]
  },
  {
   "cell_type": "code",
   "execution_count": null,
   "metadata": {},
   "outputs": [],
   "source": []
  }
 ],
 "metadata": {
  "kernelspec": {
   "display_name": "Python 3",
   "language": "python",
   "name": "python3"
  },
  "language_info": {
   "codemirror_mode": {
    "name": "ipython",
    "version": 3
   },
   "file_extension": ".py",
   "mimetype": "text/x-python",
   "name": "python",
   "nbconvert_exporter": "python",
   "pygments_lexer": "ipython3",
   "version": "3.6.5"
  }
 },
 "nbformat": 4,
 "nbformat_minor": 2
}
