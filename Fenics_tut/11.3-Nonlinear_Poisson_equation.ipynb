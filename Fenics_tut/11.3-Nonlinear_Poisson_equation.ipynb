{
 "cells": [
  {
   "cell_type": "markdown",
   "metadata": {},
   "source": [
    "<img src=\"Header.png\" alt=\"Python Cientifico de\" style=\"width: 1000px;\"/>"
   ]
  },
  {
   "cell_type": "markdown",
   "metadata": {},
   "source": [
    "# Nonlinear Poisson equation"
   ]
  },
  {
   "cell_type": "markdown",
   "metadata": {},
   "source": [
    "```python\n",
    "FEniCS tutorial demo program: Nonlinear Poisson equation.\n",
    "\n",
    "  -div(q(u)*grad(u)) = f   in the unit square.\n",
    "                   u = u_D on the boundary.\n",
    "```"
   ]
  },
  {
   "cell_type": "code",
   "execution_count": 2,
   "metadata": {},
   "outputs": [],
   "source": [
    "from __future__ import print_function\n",
    "\n",
    "# Warning: from fenics import * will import both `sym` and\n",
    "# `q` from FEniCS. We therefore import FEniCS first and then\n",
    "# overwrite these objects.\n",
    "from fenics import *"
   ]
  },
  {
   "cell_type": "code",
   "execution_count": 3,
   "metadata": {},
   "outputs": [],
   "source": [
    "def q(u):\n",
    "    \"Return nonlinear coefficient\"\n",
    "    return 1 + u**2"
   ]
  },
  {
   "cell_type": "code",
   "execution_count": 4,
   "metadata": {},
   "outputs": [
    {
     "name": "stdout",
     "output_type": "stream",
     "text": [
      "u = x[0] + 2*x[1] + 1\n",
      "f = -10*x[0] - 20*x[1] - 10\n"
     ]
    }
   ],
   "source": [
    "# Use SymPy to compute f from the manufactured solution u\n",
    "import sympy as sym\n",
    "x, y = sym.symbols('x[0], x[1]')\n",
    "u = 1 + x + 2*y\n",
    "f = - sym.diff(q(u)*sym.diff(u, x), x) - sym.diff(q(u)*sym.diff(u, y), y)\n",
    "f = sym.simplify(f)\n",
    "u_code = sym.printing.ccode(u)\n",
    "f_code = sym.printing.ccode(f)\n",
    "print('u =', u_code)\n",
    "print('f =', f_code)"
   ]
  },
  {
   "cell_type": "code",
   "execution_count": 5,
   "metadata": {},
   "outputs": [],
   "source": [
    "# Create mesh and define function space\n",
    "mesh = UnitSquareMesh(8, 8)\n",
    "V = FunctionSpace(mesh, 'P', 1)"
   ]
  },
  {
   "cell_type": "code",
   "execution_count": 6,
   "metadata": {},
   "outputs": [],
   "source": [
    "# Define boundary condition\n",
    "u_D = Expression(u_code, degree=2)"
   ]
  },
  {
   "cell_type": "code",
   "execution_count": 7,
   "metadata": {},
   "outputs": [],
   "source": [
    "def boundary(x, on_boundary):\n",
    "    return on_boundary\n",
    "\n",
    "bc = DirichletBC(V, u_D, boundary)"
   ]
  },
  {
   "cell_type": "code",
   "execution_count": 8,
   "metadata": {},
   "outputs": [],
   "source": [
    "# Define variational problem\n",
    "u = Function(V)  # Note: not TrialFunction!\n",
    "v = TestFunction(V)\n",
    "f = Expression(f_code, degree=2)\n",
    "F = q(u)*dot(grad(u), grad(v))*dx - f*v*dx"
   ]
  },
  {
   "cell_type": "code",
   "execution_count": 10,
   "metadata": {},
   "outputs": [
    {
     "data": {
      "text/plain": [
       "<matplotlib.tri.tricontour.TriContourSet at 0x7f1085d09cc0>"
      ]
     },
     "execution_count": 10,
     "metadata": {},
     "output_type": "execute_result"
    },
    {
     "data": {
      "image/png": "[encoded data removed]",
      "text/plain": [
       "<matplotlib.figure.Figure at 0x7f108a585cc0>"
      ]
     },
     "metadata": {
      "needs_background": "light"
     },
     "output_type": "display_data"
    }
   ],
   "source": [
    "# Compute solution\n",
    "solve(F == 0, u, bc)\n",
    "\n",
    "# Plot solution\n",
    "plot(u)"
   ]
  },
  {
   "cell_type": "code",
   "execution_count": 11,
   "metadata": {},
   "outputs": [
    {
     "name": "stdout",
     "output_type": "stream",
     "text": [
      "error_max =  0.0\n"
     ]
    }
   ],
   "source": [
    "# Compute maximum error at vertices. This computation illustrates\n",
    "# an alternative to using compute_vertex_values as in poisson.py.\n",
    "u_e = interpolate(u_D, V)\n",
    "import numpy as np\n",
    "#error_max = np.abs(u_e.vector().array() - u.vector().array()).max()\n",
    "error_max = np.abs(u_e.vector() - u.vector()).max()\n",
    "print('error_max = ', error_max)\n",
    "\n",
    "# Hold plot\n",
    "#interactive()"
   ]
  },
  {
   "cell_type": "code",
   "execution_count": null,
   "metadata": {},
   "outputs": [],
   "source": []
  }
 ],
 "metadata": {
  "kernelspec": {
   "display_name": "Python 3",
   "language": "python",
   "name": "python3"
  },
  "language_info": {
   "codemirror_mode": {
    "name": "ipython",
    "version": 3
   },
   "file_extension": ".py",
   "mimetype": "text/x-python",
   "name": "python",
   "nbconvert_exporter": "python",
   "pygments_lexer": "ipython3",
   "version": "3.6.9"
  }
 },
 "nbformat": 4,
 "nbformat_minor": 2
}
