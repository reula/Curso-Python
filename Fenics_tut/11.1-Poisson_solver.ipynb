{
 "cells": [
  {
   "cell_type": "markdown",
   "metadata": {},
   "source": [
    "# Poisson solver "
   ]
  },
  {
   "cell_type": "markdown",
   "metadata": {},
   "source": [
    "**FEniCS tutorial demo program:** Poisson equation with Dirichlet conditions.\n",
    "Test problem is chosen to give an exact solution at all nodes of the mesh.\n",
    "\n",
    "\\begin{eqnarray*}\n",
    "  -\\Delta u &=& f \\;\\;\\;\\;\\; \\mbox{in the unit square} \\\\\n",
    "   u &=& u_D  \\;\\;\\;\\;\\; \\mbox{on the boundary}\n",
    "\\end{eqnarray*}\n",
    "\n",
    "\\begin{eqnarray*}\n",
    "  u_D &=& 1 + x^2 + 2y^2 \\\\\n",
    "  f &=& -6\n",
    "\\end{eqnarray*}\n"
   ]
  },
  {
   "cell_type": "code",
   "execution_count": 6,
   "metadata": {},
   "outputs": [],
   "source": [
    "#from __future__ import print_function\n",
    "from fenics import *\n",
    "from mshr import *\n",
    "import numpy as np"
   ]
  },
  {
   "cell_type": "code",
   "execution_count": 7,
   "metadata": {},
   "outputs": [],
   "source": [
    "def solver(f, u_D, Nx, Ny, degree=1):\n",
    "    \"\"\"\n",
    "    Solve -Laplace(u) = f on [0,1] x [0,1] with 2*Nx*Ny Lagrange\n",
    "    elements of specified degree and u = u_D (Expresssion) on\n",
    "    the boundary.\n",
    "    \"\"\"\n",
    "\n",
    "    # Create mesh and define function space\n",
    "    mesh = UnitSquareMesh(Nx, Ny)\n",
    "    V = FunctionSpace(mesh, 'P', degree)\n",
    "\n",
    "    # Define boundary condition\n",
    "    def boundary(x, on_boundary):\n",
    "        return on_boundary\n",
    "\n",
    "    bc = DirichletBC(V, u_D, boundary)\n",
    "\n",
    "    # Define variational problem\n",
    "    u = TrialFunction(V)\n",
    "    v = TestFunction(V)\n",
    "    a = dot(grad(u), grad(v))*dx\n",
    "    L = f*v*dx\n",
    "\n",
    "    # Compute solution\n",
    "    u = Function(V)\n",
    "    solve(a == L, u, bc)\n",
    "\n",
    "    return u"
   ]
  },
  {
   "cell_type": "code",
   "execution_count": 36,
   "metadata": {},
   "outputs": [],
   "source": [
    "def run_solver():\n",
    "    \"Run solver to compute and post-process solution\"\n",
    "\n",
    "    # Set up problem parameters and call solver\n",
    "    u_D = Expression('1 + x[0]*x[0] + 2*x[1]*x[1]', degree=2)\n",
    "    f = Constant(-6.0)\n",
    "    u = solver(f, u_D, 8, 8, 1);\n",
    "\n",
    "    # Plot solution and mesh\n",
    "    plot(u)\n",
    "    plot(u.function_space().mesh())\n",
    "\n",
    "    # Save solution to file in VTK format\n",
    "    vtkfile = File('poisson_solver/solution.pvd')\n",
    "    vtkfile << u"
   ]
  },
  {
   "cell_type": "code",
   "execution_count": 37,
   "metadata": {},
   "outputs": [],
   "source": [
    "def test_solver():\n",
    "    \"Test solver by reproducing u = 1 + x^2 + 2y^2\"\n",
    "\n",
    "    # Set up parameters for testing\n",
    "    tol = 1E-12\n",
    "    u_D = Expression('1 + x[0]*x[0] + 2*x[1]*x[1]', degree=2)\n",
    "    f = Constant(-6.0)\n",
    "\n",
    "    # Iterate over mesh sizes and degrees\n",
    "    for Nx, Ny in [(3, 3), (3, 5), (5, 3), (20, 20)]:\n",
    "        for degree in 1, 2, 3:\n",
    "            #print('Solving on a 2 x (%d x %d) mesh with P%d elements.\\n' \\\n",
    "            #      % (Nx, Ny, degree))\n",
    "\n",
    "            # Compute solution\n",
    "            u = solver(f, u_D, Nx, Ny, degree)\n",
    "\n",
    "            # Extract the mesh\n",
    "            mesh = u.function_space().mesh()\n",
    "\n",
    "            # Compute maximum error at vertices\n",
    "            vertex_values_u_D = u_D.compute_vertex_values(mesh)\n",
    "            vertex_values_u  = u.compute_vertex_values(mesh)\n",
    "            error_max = np.max(np.abs(vertex_values_u_D - \\\n",
    "                                      vertex_values_u))\n",
    "\n",
    "            print('Solving on a 2 x (%d x %d) mesh with P%d elements. The error is: %e\\n'\n",
    "                  % (Nx, Ny, degree, error_max))\n",
    "            # Check maximum error\n",
    "            msg = 'error_max = %g' % error_max\n",
    "            assert error_max < tol, msg"
   ]
  },
  {
   "cell_type": "code",
   "execution_count": 38,
   "metadata": {},
   "outputs": [
    {
     "name": "stdout",
     "output_type": "stream",
     "text": [
      "Solving linear variational problem.\n"
     ]
    },
    {
     "data": {
      "image/png": "[encoded data removed]",
      "text/plain": [
       "<Figure size 432x288 with 1 Axes>"
      ]
     },
     "metadata": {
      "needs_background": "light"
     },
     "output_type": "display_data"
    }
   ],
   "source": [
    "if __name__ == '__main__':\n",
    "    run_solver()\n",
    "#    interactive()"
   ]
  },
  {
   "cell_type": "code",
   "execution_count": 35,
   "metadata": {},
   "outputs": [
    {
     "name": "stdout",
     "output_type": "stream",
     "text": [
      "Solving on a 2 x (3 x 3) mesh with P1 elements. The error is: 2.220446e-16\n",
      "Solving linear variational problem.\n",
      "\n",
      "Solving on a 2 x (3 x 3) mesh with P2 elements. The error is: 6.217249e-15\n",
      "\n",
      "Solving on a 2 x (3 x 3) mesh with P3 elements. The error is: 4.884981e-15\n",
      "\n",
      "Solving on a 2 x (3 x 5) mesh with P1 elements. The error is: 1.332268e-15\n",
      "\n",
      "Solving on a 2 x (3 x 5) mesh with P2 elements. The error is: 1.465494e-14\n",
      "Solving linear variational problem.\n",
      "Solving linear variational problem.\n",
      "Solving linear variational problem.\n",
      "\n",
      "Solving linear variational problem.\n",
      "Solving on a 2 x (3 x 5) mesh with P3 elements. The error is: 1.842970e-14\n",
      "\n",
      "Solving linear variational problem.\n",
      "Solving on a 2 x (5 x 3) mesh with P1 elements. The error is: 1.332268e-15\n",
      "Solving linear variational problem.\n",
      "\n",
      "Solving on a 2 x (5 x 3) mesh with P2 elements. The error is: 1.598721e-14\n",
      "\n",
      "Solving on a 2 x (5 x 3) mesh with P3 elements. The error is: 1.731948e-14\n",
      "\n",
      "Solving on a 2 x (20 x 20) mesh with P1 elements. The error is: 1.199041e-14\n",
      "\n",
      "Solving on a 2 x (20 x 20) mesh with P2 elements. The error is: 4.090062e-13\n",
      "Solving linear variational problem.\n",
      "Solving linear variational problem.\n",
      "Solving linear variational problem.\n",
      "Solving linear variational problem.\n",
      "\n",
      "Solving linear variational problem.\n",
      "Solving on a 2 x (20 x 20) mesh with P3 elements. The error is: 6.321610e-13\n",
      "\n"
     ]
    }
   ],
   "source": [
    "test_solver()"
   ]
  },
  {
   "cell_type": "code",
   "execution_count": null,
   "metadata": {},
   "outputs": [],
   "source": []
  }
 ],
 "metadata": {
  "kernelspec": {
   "display_name": "Python 3 (ipykernel)",
   "language": "python",
   "name": "python3"
  },
  "language_info": {
   "codemirror_mode": {
    "name": "ipython",
    "version": 3
   },
   "file_extension": ".py",
   "mimetype": "text/x-python",
   "name": "python",
   "nbconvert_exporter": "python",
   "pygments_lexer": "ipython3",
   "version": "3.10.0"
  }
 },
 "nbformat": 4,
 "nbformat_minor": 2
}
